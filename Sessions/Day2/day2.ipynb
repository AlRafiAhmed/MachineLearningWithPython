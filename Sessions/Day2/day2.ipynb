{
 "cells": [
  {
   "cell_type": "markdown",
   "metadata": {},
   "source": [
    "# Basics of Python Programming"
   ]
  },
  {
   "cell_type": "markdown",
   "metadata": {},
   "source": [
    "### Session 2"
   ]
  },
  {
   "cell_type": "markdown",
   "metadata": {},
   "source": [
    "## Table of contents\n",
    "\n",
    "* [Optional arguments to the print function](#Optional_arguments_to_print)\n",
    "* [Operators and Math formulas](#opt_math_formulas)\n",
    "* [Python Modules](#python_modules)\n",
    "* [Conditional Statements](#con_stmnt)\n",
    "* [Loops](#loops)\n",
    "* [Lists](#lists)\n",
    "* [Tuples](#tuples)\n",
    "* [Sets](#sets)"
   ]
  },
  {
   "cell_type": "markdown",
   "metadata": {},
   "source": [
    "<a id='Optional_arguments_to_print'></a>\n",
    "### Optional arguments to the print function\n",
    "* sep — used to change or get rid of spaces that print inserts\n",
    "* end — used to change or get rid of when print jumps to next line"
   ]
  },
  {
   "cell_type": "code",
   "execution_count": 1,
   "metadata": {},
   "outputs": [
    {
     "name": "stdout",
     "output_type": "stream",
     "text": [
      "12345\n",
      "1/2/3/4/5\n",
      "1 2 3 4 5\n",
      "\n",
      "\n"
     ]
    }
   ],
   "source": [
    "print(1, 2, 3, 4, 5, sep='') # prints 12345\n",
    "print(1, 2, 3, 4, 5, sep='/') # prints 1/2/3/4/5\n",
    "print(1, 2, 3, 4, 5, end='\\n\\n\\n')"
   ]
  },
  {
   "cell_type": "markdown",
   "metadata": {},
   "source": [
    "<a id='opt_math_formulas'></a>\n",
    "### Python Operators"
   ]
  },
  {
   "cell_type": "code",
   "execution_count": 3,
   "metadata": {},
   "outputs": [
    {
     "name": "stdout",
     "output_type": "stream",
     "text": [
      "Arithmetic Operators:\n",
      "a + b = 13\n",
      "a - b = 7\n",
      "a * b = 30\n",
      "a / b = 3.3333333333333335\n",
      "a % b = 1\n",
      "a ** b = 1000\n"
     ]
    }
   ],
   "source": [
    "# Arithmetic Operators\n",
    "print(\"Arithmetic Operators:\")\n",
    "a, b = 10, 3\n",
    "print(f\"a + b = {a + b}\")  # Addition\n",
    "print(f\"a - b = {a - b}\")  # Subtraction\n",
    "print(f\"a * b = {a * b}\")  # Multiplication\n",
    "print(f\"a / b = {a / b}\")  # Division\n",
    "print(f\"a % b = {a % b}\")  # Modulus\n",
    "print(f\"a ** b = {a ** b}\")  # Exponentiation"
   ]
  },
  {
   "cell_type": "code",
   "execution_count": 4,
   "metadata": {},
   "outputs": [
    {
     "name": "stdout",
     "output_type": "stream",
     "text": [
      "\n",
      "Comparison Operators:\n",
      "a == b: False\n",
      "a != b: True\n",
      "a > b: True\n",
      "a < b: False\n",
      "a >= b: True\n",
      "a <= b: False\n"
     ]
    }
   ],
   "source": [
    "# Comparison Operators\n",
    "print(\"\\nComparison Operators:\")\n",
    "print(f\"a == b: {a == b}\")  # Equal to\n",
    "print(f\"a != b: {a != b}\")  # Not equal to\n",
    "print(f\"a > b: {a > b}\")    # Greater than\n",
    "print(f\"a < b: {a < b}\")    # Less than\n",
    "print(f\"a >= b: {a >= b}\")  # Greater than or equal to\n",
    "print(f\"a <= b: {a <= b}\")  # Less than or equal to"
   ]
  },
  {
   "cell_type": "code",
   "execution_count": 5,
   "metadata": {},
   "outputs": [
    {
     "name": "stdout",
     "output_type": "stream",
     "text": [
      "\n",
      "Logical Operators:\n",
      "x and y: False\n",
      "x or y: True\n",
      "not x: False\n"
     ]
    }
   ],
   "source": [
    "# Logical Operators\n",
    "print(\"\\nLogical Operators:\")\n",
    "x, y = True, False\n",
    "print(f\"x and y: {x and y}\")  # Logical AND\n",
    "print(f\"x or y: {x or y}\")    # Logical OR\n",
    "print(f\"not x: {not x}\")      # Logical NOT"
   ]
  },
  {
   "cell_type": "markdown",
   "metadata": {},
   "source": [
    "### Math formulas\n",
    "\n",
    "$+, -, *$, and $/$ are the four basic math operators. Also:\n",
    "\n",
    "| Operator | What it does      | Examples    |\n",
    "|----------|-------------------|-------------|\n",
    "| **       | Powers            | 5**2        |\n",
    "| %        | Modulo (remainder)| 19 % 5 = 4  |\n",
    "| //       | Integer division  | 5//3 = 1    |"
   ]
  },
  {
   "cell_type": "code",
   "execution_count": null,
   "metadata": {},
   "outputs": [],
   "source": [
    "print(5+2)\n",
    "print(4-1)\n",
    "print(7*8)\n",
    "print(9/4)"
   ]
  },
  {
   "cell_type": "code",
   "execution_count": null,
   "metadata": {},
   "outputs": [],
   "source": [
    "print(5**2)\n",
    "print(19%5)\n",
    "print(6//3)"
   ]
  },
  {
   "cell_type": "markdown",
   "metadata": {},
   "source": [
    "A math formula like $3x + 5$ needs the times symbol, like this:\n"
   ]
  },
  {
   "cell_type": "code",
   "execution_count": 2,
   "metadata": {},
   "outputs": [
    {
     "name": "stdout",
     "output_type": "stream",
     "text": [
      "20\n"
     ]
    }
   ],
   "source": [
    "x = 5\n",
    "y = 3*x + 5\n",
    "print(y)"
   ]
  },
  {
   "cell_type": "markdown",
   "metadata": {},
   "source": [
    "Order (PEMDAS) of operations matters. Use parentheses if necessary. An average calculation:"
   ]
  },
  {
   "cell_type": "code",
   "execution_count": null,
   "metadata": {},
   "outputs": [],
   "source": [
    "x = 6\n",
    "y = 3\n",
    "z = 9\n",
    "avg = (x + y + z) / 3\n",
    "print(avg)"
   ]
  },
  {
   "cell_type": "markdown",
   "metadata": {},
   "source": [
    "<a id='python_modules'></a>\n",
    "### Python Modules \n",
    "\n"
   ]
  },
  {
   "cell_type": "markdown",
   "metadata": {},
   "source": [
    "#### Creating Functions in Python\n",
    "\n",
    "Functions are reusable blocks of code that perform a specific task. They help in organizing code, improving readability, and reducing repetition.\n",
    "\n",
    "### Basic Function Structure\n",
    "\n",
    "```python\n",
    "def function_name(parameters):\n",
    "    # Function body\n",
    "    # Code to be executed\n",
    "    return result  # Optional"
   ]
  },
  {
   "cell_type": "code",
   "execution_count": 6,
   "metadata": {},
   "outputs": [
    {
     "name": "stdout",
     "output_type": "stream",
     "text": [
      "Hello, Alice!\n"
     ]
    }
   ],
   "source": [
    "def greet(name):\n",
    "    \"\"\"This function greets the person passed in as a parameter\"\"\"\n",
    "    return f\"Hello, {name}!\"\n",
    "\n",
    "# Calling the function\n",
    "print(greet(\"Alice\"))"
   ]
  },
  {
   "cell_type": "code",
   "execution_count": 7,
   "metadata": {},
   "outputs": [
    {
     "name": "stdout",
     "output_type": "stream",
     "text": [
      "The sum is: 8\n"
     ]
    }
   ],
   "source": [
    "def add_numbers(a, b):\n",
    "    \"\"\"This function adds two numbers\"\"\"\n",
    "    return a + b\n",
    "\n",
    "result = add_numbers(5, 3)\n",
    "print(f\"The sum is: {result}\")"
   ]
  },
  {
   "cell_type": "code",
   "execution_count": null,
   "metadata": {},
   "outputs": [],
   "source": [
    "def power(base, exponent=2):\n",
    "    \"\"\"This function calculates the power of a number\"\"\"\n",
    "    return base ** exponent\n",
    "\n",
    "print(power(3))      # Uses default exponent (2)\n",
    "print(power(3, 3))   # Uses provided exponent"
   ]
  },
  {
   "cell_type": "markdown",
   "metadata": {},
   "source": [
    "## Python Modules\n",
    "\n",
    "Modules are files containing Python code. They can define functions, classes, and variables that you can use in other Python programs.\n",
    "\n",
    "### Importing Modules\n",
    "\n",
    "There are several ways to import modules:\n",
    "```python\n",
    "# Import the entire module\n",
    "import math\n",
    "\n",
    "# Import specific functions from a module\n",
    "from random import randint, choice\n",
    "\n",
    "# Import a module with an alias\n",
    "import numpy as np"
   ]
  },
  {
   "cell_type": "code",
   "execution_count": 8,
   "metadata": {},
   "outputs": [
    {
     "name": "stdout",
     "output_type": "stream",
     "text": [
      "The sine of pi is 1.2246467991473532e-16\n"
     ]
    }
   ],
   "source": [
    "from math import sin, pi\n",
    "\n",
    "print(\"The sine of pi is\", sin(pi))"
   ]
  },
  {
   "cell_type": "markdown",
   "metadata": {},
   "source": [
    "The absolute value and round functions don’t need to be imported:"
   ]
  },
  {
   "cell_type": "code",
   "execution_count": 9,
   "metadata": {},
   "outputs": [
    {
     "name": "stdout",
     "output_type": "stream",
     "text": [
      "The absolute value of -3 is 3\n",
      "4/3 rounded to two decimal places is 1.33\n"
     ]
    }
   ],
   "source": [
    "print(\"The absolute value of -3 is\", abs(-3))\n",
    "print(\"4/3 rounded to two decimal places is\", round(4/3, 2))"
   ]
  },
  {
   "cell_type": "code",
   "execution_count": 10,
   "metadata": {},
   "outputs": [
    {
     "name": "stdout",
     "output_type": "stream",
     "text": [
      "3\n"
     ]
    }
   ],
   "source": [
    "from random import randint\n",
    "x = randint(1, 5)\n",
    "print(x)"
   ]
  },
  {
   "cell_type": "markdown",
   "metadata": {},
   "source": [
    "<a id='con_stmnt'></a>\n",
    "## Conditional Statements\n",
    "\n",
    "<!--- <img src=\"imgs/jupyter-logo.svg\" alt=\"drawing\" width=\"200\"> -->"
   ]
  },
  {
   "cell_type": "code",
   "execution_count": 11,
   "metadata": {},
   "outputs": [
    {
     "name": "stdout",
     "output_type": "stream",
     "text": [
      "X is 3\n"
     ]
    }
   ],
   "source": [
    "x = 3\n",
    "\n",
    "if x == 3: # if x is 3\n",
    "    print(\"X is 3\")"
   ]
  },
  {
   "cell_type": "code",
   "execution_count": null,
   "metadata": {},
   "outputs": [],
   "source": [
    "if x != 5: # if x is not 3\n",
    "    print(\"X is not 5\")"
   ]
  },
  {
   "cell_type": "code",
   "execution_count": null,
   "metadata": {},
   "outputs": [],
   "source": [
    "if x >= 1 and x <= 5: # if x is between 1 and 5\n",
    "    print(\"X is between 1 and 5\")"
   ]
  },
  {
   "cell_type": "code",
   "execution_count": null,
   "metadata": {},
   "outputs": [],
   "source": [
    "if x == 1 or x == 3: # if x is 1 or 2\n",
    "    print(\"X is not 1 nor 2\")"
   ]
  },
  {
   "cell_type": "code",
   "execution_count": null,
   "metadata": {},
   "outputs": [],
   "source": [
    "name = \"kuddus\"\n",
    "\n",
    "if name == \"kuddus\": # checking strings\n",
    "    print(name)"
   ]
  },
  {
   "cell_type": "code",
   "execution_count": null,
   "metadata": {},
   "outputs": [],
   "source": [
    "y = 2\n",
    "\n",
    "if (x == 3 or x == 5) and y == 2: # use parens in complicated statements\n",
    "    print(x, y)"
   ]
  },
  {
   "cell_type": "markdown",
   "metadata": {},
   "source": [
    "### if/else statements\n"
   ]
  },
  {
   "cell_type": "code",
   "execution_count": null,
   "metadata": {},
   "outputs": [],
   "source": [
    "num = 5\n",
    "guess = 2\n",
    "\n",
    "if guess == num:\n",
    "    print(\"You got it!\")\n",
    "else:\n",
    "    print(\"You missed it.\")"
   ]
  },
  {
   "cell_type": "markdown",
   "metadata": {},
   "source": [
    "### if/elif/else statements\n",
    "* It is useful if something can be one of several possibilities"
   ]
  },
  {
   "cell_type": "code",
   "execution_count": null,
   "metadata": {},
   "outputs": [],
   "source": [
    "entry = input(\"Do you have any discount? (yes/no):\")\n",
    "\n",
    "if entry == \"yes\":\n",
    "    print(\"Your total bill is $45.00\")\n",
    "elif entry == \"no\":\n",
    "    print(\"Your total bill is $50.00\")\n",
    "else:\n",
    "    print(\"Invalid entry\")"
   ]
  },
  {
   "cell_type": "markdown",
   "metadata": {},
   "source": [
    "<a id='loops'></a>\n",
    "## Loops\n",
    "\n",
    "### For Loop"
   ]
  },
  {
   "cell_type": "markdown",
   "metadata": {},
   "source": [
    "The following line will print hello 5 times."
   ]
  },
  {
   "cell_type": "code",
   "execution_count": 12,
   "metadata": {},
   "outputs": [
    {
     "name": "stdout",
     "output_type": "stream",
     "text": [
      "hello\n",
      "hello\n",
      "hello\n",
      "hello\n",
      "hello\n"
     ]
    }
   ],
   "source": [
    "for i in range(5):\n",
    "    print(\"hello\")"
   ]
  },
  {
   "cell_type": "markdown",
   "metadata": {},
   "source": [
    "Indentation is used to tell what statements will be repeated. \n",
    "The statement below alternates printing A and B 5 times and then prints Bye once."
   ]
  },
  {
   "cell_type": "code",
   "execution_count": 13,
   "metadata": {},
   "outputs": [
    {
     "name": "stdout",
     "output_type": "stream",
     "text": [
      "A\n",
      "B\n",
      "A\n",
      "B\n",
      "A\n",
      "B\n",
      "A\n",
      "B\n",
      "A\n",
      "B\n",
      "Bye\n"
     ]
    }
   ],
   "source": [
    "for i in range(5):\n",
    "    print(\"A\")\n",
    "    print(\"B\")\n",
    "print(\"Bye\")"
   ]
  },
  {
   "cell_type": "markdown",
   "metadata": {},
   "source": [
    "The $i$ variable in a for loop keeps track of where you are in the loop. In a simple for loop it starts off at $0$ and goes to one $less$ than whatever is in the range. The example below prints out the value of $i$ at each step and will end up printing the numbers from $0\\, to \\,9$"
   ]
  },
  {
   "cell_type": "code",
   "execution_count": null,
   "metadata": {},
   "outputs": [],
   "source": [
    "for i in range(1, 10, 2):\n",
    "    print(i, end=\" \")"
   ]
  },
  {
   "cell_type": "markdown",
   "metadata": {},
   "source": [
    "**The range statement**— Here are some example ranges:\n",
    "\n",
    "| Statement      | Values generated     |\n",
    "|----------------|----------------------|\n",
    "| range(10)      | 0,1,2,3,4,5,6,7,8,9  |\n",
    "| range(5,10)    | 5,6,7,8,9            |\n",
    "| range(1,10,2)  | 1,3,5,7,9            |\n",
    "| range(10,0,-1) | 10,9,8,7,6,5,4,3,2,1 |"
   ]
  },
  {
   "cell_type": "markdown",
   "metadata": {},
   "source": [
    "One tricky thing is that the **endpoint of the range is never included** in the numbers generated.\n",
    "\n",
    "For instance, range(1,10) stops at 9."
   ]
  },
  {
   "cell_type": "markdown",
   "metadata": {},
   "source": [
    "### While Loops"
   ]
  },
  {
   "cell_type": "code",
   "execution_count": null,
   "metadata": {},
   "outputs": [],
   "source": [
    "i = 1\n",
    "while i < 6:\n",
    "    print(i)\n",
    "    i += 1"
   ]
  },
  {
   "cell_type": "code",
   "execution_count": null,
   "metadata": {},
   "outputs": [],
   "source": [
    "i = 1\n",
    "while i is not 5:\n",
    "    print(i)\n",
    "    i+=1"
   ]
  },
  {
   "cell_type": "markdown",
   "metadata": {},
   "source": [
    "### Task 1: Creating a Simple Function\n",
    "\n",
    "Question\n",
    "Create a function called greet that takes a person's name as an argument and returns a personalized greeting message.\n",
    "\n",
    "Example Output\n",
    "If the input is \"John\", the output should be \"Hello, John!\"."
   ]
  },
  {
   "cell_type": "code",
   "execution_count": null,
   "metadata": {},
   "outputs": [],
   "source": [
    "# TODO"
   ]
  },
  {
   "cell_type": "markdown",
   "metadata": {},
   "source": [
    "### Task 2: Working with Modules\n",
    "\n",
    "Question\n",
    "Import the math module and use its sqrt function to calculate the square root of a number.\n",
    "\n",
    "Example Output\n",
    "If the input is 16, the output should be 4.0."
   ]
  },
  {
   "cell_type": "markdown",
   "metadata": {},
   "source": [
    "# TODO"
   ]
  }
 ],
 "metadata": {
  "kernelspec": {
   "display_name": ".venv",
   "language": "python",
   "name": "python3"
  },
  "language_info": {
   "codemirror_mode": {
    "name": "ipython",
    "version": 3
   },
   "file_extension": ".py",
   "mimetype": "text/x-python",
   "name": "python",
   "nbconvert_exporter": "python",
   "pygments_lexer": "ipython3",
   "version": "3.10.10"
  }
 },
 "nbformat": 4,
 "nbformat_minor": 2
}
